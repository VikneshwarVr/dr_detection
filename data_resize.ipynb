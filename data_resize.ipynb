{
 "cells": [
  {
   "cell_type": "code",
   "execution_count": 35,
   "metadata": {},
   "outputs": [],
   "source": [
    "import os\n",
    "from PIL import Image\n",
    "from tqdm import tqdm"
   ]
  },
  {
   "cell_type": "code",
   "execution_count": 36,
   "metadata": {},
   "outputs": [],
   "source": [
    "# Define the paths for the source and destination folders\n",
    "source_dir = 'aptos_augmented_images_original/test/'\n",
    "dest_dir = 'aptos_augmented_images_resized/test/'\n",
    "\n",
    "# defining size\n",
    "size = (128,128)"
   ]
  },
  {
   "cell_type": "code",
   "execution_count": 37,
   "metadata": {},
   "outputs": [],
   "source": [
    "def resize_files(source,dest,size):\n",
    "    \n",
    "    for i in range(5):\n",
    "\n",
    "        # Each class has its own sub-folders\n",
    "        source_dir = source + str(i)\n",
    "        dest_dir = dest + str(i)\n",
    "\n",
    "        # Get the number of files in the source directory for tqdm\n",
    "        num_files = len(os.listdir(source_dir))\n",
    "\n",
    "        # Use tqdm to iterate over the files in the source directory and resize and save them to the destination directory\n",
    "        for file_name in tqdm(os.listdir(source_dir), desc='Resizing images of class '+str(i), total=num_files):\n",
    "            # Open the image and resize it\n",
    "            img = Image.open(os.path.join(source_dir, file_name))\n",
    "            img_resized = img.resize(size)\n",
    "            \n",
    "            # Save the resized image to the destination directory\n",
    "            dest_path = os.path.join(dest_dir, file_name)\n",
    "            img_resized.save(dest_path)\n"
   ]
  },
  {
   "cell_type": "code",
   "execution_count": 38,
   "metadata": {},
   "outputs": [
    {
     "name": "stderr",
     "output_type": "stream",
     "text": [
      "Resizing images of class 0: 100%|██████████| 2000/2000 [00:32<00:00, 60.79it/s]\n",
      "Resizing images of class 1: 100%|██████████| 2000/2000 [00:34<00:00, 57.18it/s]\n",
      "Resizing images of class 2: 100%|██████████| 2000/2000 [00:33<00:00, 59.62it/s]\n",
      "Resizing images of class 3: 100%|██████████| 2000/2000 [00:32<00:00, 60.61it/s]\n",
      "Resizing images of class 4: 100%|██████████| 2000/2000 [00:32<00:00, 60.82it/s]\n"
     ]
    }
   ],
   "source": [
    "# calling the resizing function\n",
    "resize_files(source_dir,dest_dir,size)"
   ]
  }
 ],
 "metadata": {
  "kernelspec": {
   "display_name": "Python 3",
   "language": "python",
   "name": "python3"
  },
  "language_info": {
   "codemirror_mode": {
    "name": "ipython",
    "version": 3
   },
   "file_extension": ".py",
   "mimetype": "text/x-python",
   "name": "python",
   "nbconvert_exporter": "python",
   "pygments_lexer": "ipython3",
   "version": "3.11.4"
  },
  "orig_nbformat": 4
 },
 "nbformat": 4,
 "nbformat_minor": 2
}
